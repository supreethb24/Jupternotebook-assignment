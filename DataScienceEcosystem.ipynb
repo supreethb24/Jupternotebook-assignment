{
 "cells": [
  {
   "cell_type": "markdown",
   "id": "8380dd06-f582-4419-9235-e9687d2c877e",
   "metadata": {
    "tags": []
   },
   "source": [
    "# H1: Data Science Tools and Ecosystem"
   ]
  },
  {
   "cell_type": "markdown",
   "id": "3ffae12b-9cb8-4ce3-b465-aa57a98ddd1b",
   "metadata": {},
   "source": [
    "**Objectives:**"
   ]
  },
  {
   "cell_type": "markdown",
   "id": "c2df5b18-de8c-4822-82ef-ebef7c581a37",
   "metadata": {},
   "source": [
    "* List popular languages for Data Science\n",
    "* List of Libraries used in Data science\n",
    "* Data science tools\n",
    "* Aritmetic expressions\n",
    "* Multiply and add numbers"
   ]
  },
  {
   "cell_type": "markdown",
   "id": "dddcb2b0-ce24-40ec-83a1-7b29f97cc5d9",
   "metadata": {},
   "source": [
    "In this notebook, Data Science Tools and Ecosystem are summarized."
   ]
  },
  {
   "cell_type": "markdown",
   "id": "937d965f-2c97-47e2-b459-269b33f6417f",
   "metadata": {},
   "source": [
    "Some of the popular languages that Data Scientists use are:"
   ]
  },
  {
   "cell_type": "markdown",
   "id": "b26210c5-c220-4696-8086-a37a7906da45",
   "metadata": {},
   "source": [
    "1. Python\n",
    "2. R\n",
    "3. SQL\n",
    "4. Java\n",
    "5. Javascript\n",
    "6. scala\n",
    "7. C++"
   ]
  },
  {
   "cell_type": "markdown",
   "id": "0d0d9bcd-e454-41ed-9f05-853efcca3bc2",
   "metadata": {},
   "source": [
    "Some of the commonly used libraries used by Data Scientists include:"
   ]
  },
  {
   "cell_type": "markdown",
   "id": "3dae6286-30b1-412e-86c7-99dcfdde58b8",
   "metadata": {},
   "source": [
    "1. Pandas\n",
    "2. Numpy\n",
    "3. matplotlib\n",
    "4. Tensorflow\n",
    "5. Pytorch"
   ]
  },
  {
   "cell_type": "markdown",
   "id": "83a4a76c-a7f5-44c5-b5d9-fd75e7a91bc8",
   "metadata": {
    "tags": []
   },
   "source": [
    "| Data science tools |\n",
    "|------------------ |\n",
    "| MySQL |\n",
    "| Jupyter |\n",
    "| R Studio |\n",
    "| Apache spark |"
   ]
  },
  {
   "cell_type": "markdown",
   "id": "a6a441b6-472b-49cd-8ed1-f0213df6bd44",
   "metadata": {},
   "source": [
    "### H3 : Below are a few examples of evaluating arithmetic expressions in Python"
   ]
  },
  {
   "cell_type": "code",
   "execution_count": 5,
   "id": "e6d38dbc-7493-46f3-b532-5e1cdc610314",
   "metadata": {
    "tags": []
   },
   "outputs": [
    {
     "data": {
      "text/plain": [
       "651"
      ]
     },
     "execution_count": 5,
     "metadata": {},
     "output_type": "execute_result"
    }
   ],
   "source": [
    "(84+9)*7"
   ]
  },
  {
   "cell_type": "code",
   "execution_count": 10,
   "id": "f3bcfa38-33c8-40ce-9469-1d75a97914ec",
   "metadata": {
    "tags": []
   },
   "outputs": [
    {
     "data": {
      "text/plain": [
       "33"
      ]
     },
     "execution_count": 10,
     "metadata": {},
     "output_type": "execute_result"
    }
   ],
   "source": [
    "(5+6)*3"
   ]
  },
  {
   "cell_type": "markdown",
   "id": "b0528b7a-93b1-4706-aa74-f524dc6ec770",
   "metadata": {},
   "source": [
    "This a simple arithmetic expression to mutiply then add integers"
   ]
  },
  {
   "cell_type": "code",
   "execution_count": 11,
   "id": "d1b71884-8bcb-44a6-a027-c2e2bed3a1d9",
   "metadata": {
    "tags": []
   },
   "outputs": [
    {
     "data": {
      "text/plain": [
       "17"
      ]
     },
     "execution_count": 11,
     "metadata": {},
     "output_type": "execute_result"
    }
   ],
   "source": [
    "(3*4)+5"
   ]
  },
  {
   "cell_type": "markdown",
   "id": "f4024abb-ab22-4ca6-be02-262fe1380cdf",
   "metadata": {},
   "source": [
    "This will convert 200 minutes to hours by diving by 60"
   ]
  },
  {
   "cell_type": "code",
   "execution_count": 13,
   "id": "f2a5d627-5aa5-44af-acb0-619d44d0237a",
   "metadata": {
    "tags": []
   },
   "outputs": [
    {
     "data": {
      "text/plain": [
       "3.3333333333333335"
      ]
     },
     "execution_count": 13,
     "metadata": {},
     "output_type": "execute_result"
    }
   ],
   "source": [
    "(200/60)"
   ]
  },
  {
   "cell_type": "markdown",
   "id": "723a060a-e133-49f6-a92b-0c5ea4dcaec4",
   "metadata": {},
   "source": [
    "## H2: Author"
   ]
  },
  {
   "cell_type": "markdown",
   "id": "eb7f0373-2c69-4043-8e90-b66ac087ff16",
   "metadata": {},
   "source": [
    "Supreeth"
   ]
  }
 ],
 "metadata": {
  "kernelspec": {
   "display_name": "Python",
   "language": "python",
   "name": "conda-env-python-py"
  },
  "language_info": {
   "codemirror_mode": {
    "name": "ipython",
    "version": 3
   },
   "file_extension": ".py",
   "mimetype": "text/x-python",
   "name": "python",
   "nbconvert_exporter": "python",
   "pygments_lexer": "ipython3",
   "version": "3.7.12"
  }
 },
 "nbformat": 4,
 "nbformat_minor": 5
}
